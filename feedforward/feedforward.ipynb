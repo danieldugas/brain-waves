{
 "cells": [
  {
   "cell_type": "code",
   "execution_count": null,
   "metadata": {
    "collapsed": true
   },
   "outputs": [],
   "source": [
    "from __future__ import print_function\n",
    "\n",
    "#import tensorflow as tf\n",
    "import numpy as np"
   ]
  },
  {
   "cell_type": "markdown",
   "metadata": {},
   "source": [
    "## Parameters"
   ]
  },
  {
   "cell_type": "code",
   "execution_count": null,
   "metadata": {
    "collapsed": true
   },
   "outputs": [],
   "source": [
    "PLOTTING_SUPPORT = True\n",
    "SET_EULER_PARAMETERS = False\n",
    "\n",
    "# Handle arguments (When executed as .py script)\n",
    "import sys\n",
    "argv = sys.argv[:]\n",
    "if len(argv) > 1:\n",
    "  script_path = argv.pop(0)\n",
    "  if \"--euler\" in argv:\n",
    "    SET_EULER_PARAMETERS = True\n",
    "    PLOTTING_SUPPORT = False\n",
    "    print(\"Parameters set for execution on euler cluster\")\n",
    "    argv.remove(\"--euler\")"
   ]
  },
  {
   "cell_type": "code",
   "execution_count": null,
   "metadata": {
    "collapsed": true
   },
   "outputs": [],
   "source": [
    "DATA_FOLDER = \"/home/daniel/Downloads/Raw-Waves/\"\n",
    "DATA_FILENAME=\"001_Session1_FilterTrigCh_RawCh.mat\"\n",
    "DATA2_FILENAME=\"001_Session2_FilterTrigCh_RawCh.mat\"\n",
    "DATA3_FILENAME=\"034_Session1_FilterTrigCh_RawCh.mat\"\n",
    "BATCH_SIZE = 20\n",
    "BATCH_LIMIT_PER_STEP = 10\n",
    "TRAINING_DATA_LENGTH = \"max\"\n",
    "VAL_DATA_LENGTH = 1200000\n",
    "TEST_DATA_LENGTH = 2000\n",
    "SAMPLING = 1\n",
    "\n",
    "MAX_STEPS = 1000\n",
    "\n",
    "VAL_EVERY_N_STEPS = 1\n",
    "VAL_STEP_TOLERANCE = 100\n",
    "\n",
    "class ModelParams:\n",
    "  def __init__(self):\n",
    "    self.DROPOUT = 1.0\n",
    "  def __str__(self):\n",
    "    return str(self.__dict__)\n",
    "  def __eq__(self, other): \n",
    "    return self.__dict__ == other.__dict__\n",
    "  def __ne__(self, other):\n",
    "    return not self.__eq__(other)\n",
    "MP = ModelParams()\n",
    "\n",
    "SAVE_DIR = \"/home/daniel/Desktop/feedforward-model/\"\n",
    "SAVE_FILE = \"model.ckpt\"\n",
    "TENSORBOARD_DIR = \"/home/daniel/tensorboard\""
   ]
  },
  {
   "cell_type": "code",
   "execution_count": null,
   "metadata": {
    "collapsed": true
   },
   "outputs": [],
   "source": [
    "if SET_EULER_PARAMETERS:\n",
    "    DATA_FOLDER = \"/cluster/home/dugasd/Data_200Hz/\"\n",
    "    SAVE_DIR = \"/cluster/home/dugasd/tf-lstm-model/\"\n",
    "    TENSORBOARD_DIR = None\n",
    "    \n",
    "    BATCH_SIZE = 20\n",
    "    BATCH_LIMIT_PER_STEP = 10000\n",
    "    MAX_STEPS = 1000000\n",
    "    VAL_STEP_TOLERANCE = 100"
   ]
  },
  {
   "cell_type": "code",
   "execution_count": null,
   "metadata": {
    "collapsed": true
   },
   "outputs": [],
   "source": [
    "if PLOTTING_SUPPORT:\n",
    "  import matplotlib.pyplot as plt\n",
    "  from cycler import cycler\n",
    "  if SAMPLING > 0:\n",
    "      plotting_function = plt.step\n",
    "  else:\n",
    "      plotting_function = plt.plot"
   ]
  },
  {
   "cell_type": "code",
   "execution_count": null,
   "metadata": {
    "collapsed": true
   },
   "outputs": [],
   "source": [
    "SAVE_PATH = SAVE_DIR+SAVE_FILE"
   ]
  },
  {
   "cell_type": "markdown",
   "metadata": {},
   "source": [
    "## Datasets"
   ]
  },
  {
   "cell_type": "code",
   "execution_count": null,
   "metadata": {
    "collapsed": false
   },
   "outputs": [],
   "source": [
    "if True:\n",
    "  raw_wave = []\n",
    "  raw_wave2 = []\n",
    "  raw_wave3 = []\n",
    "\n",
    "  import scipy.io\n",
    "  mat = scipy.io.loadmat(DATA_FOLDER+DATA_FILENAME)\n",
    "  raw_wave = mat.get('data')[0]\n",
    "  raw_wave = raw_wave[::SAMPLING]\n",
    "  wave_indices = mat.get('wave')[0]\n",
    "\n",
    "  if DATA2_FILENAME is not None:\n",
    "      mat = scipy.io.loadmat(DATA_FOLDER+DATA2_FILENAME)\n",
    "      raw_wave2 = mat.get('data')[0]\n",
    "      raw_wave2 = raw_wave2[::SAMPLING]\n",
    "  if DATA3_FILENAME is not None:\n",
    "      mat = scipy.io.loadmat(DATA_FOLDER+DATA3_FILENAME)\n",
    "      raw_wave3 = mat.get('data')[0]\n",
    "      raw_wave3 = raw_wave3[::SAMPLING]\n",
    "    \n",
    "  # Save some memory\n",
    "  del mat"
   ]
  },
  {
   "cell_type": "code",
   "execution_count": null,
   "metadata": {
    "collapsed": false
   },
   "outputs": [],
   "source": [
    "if PLOTTING_SUPPORT:\n",
    "  plt.figure()\n",
    "  plotting_function(range(len(raw_wave)),raw_wave,label=\"raw_wave\")\n",
    "  plt.ylim([-1000,1000])\n",
    "  plt.show()"
   ]
  },
  {
   "cell_type": "code",
   "execution_count": null,
   "metadata": {
    "collapsed": true
   },
   "outputs": [],
   "source": []
  }
 ],
 "metadata": {
  "kernelspec": {
   "display_name": "Python [ml3]",
   "language": "python",
   "name": "Python [ml3]"
  },
  "language_info": {
   "codemirror_mode": {
    "name": "ipython",
    "version": 3
   },
   "file_extension": ".py",
   "mimetype": "text/x-python",
   "name": "python",
   "nbconvert_exporter": "python",
   "pygments_lexer": "ipython3",
   "version": "3.4.5"
  }
 },
 "nbformat": 4,
 "nbformat_minor": 0
}
