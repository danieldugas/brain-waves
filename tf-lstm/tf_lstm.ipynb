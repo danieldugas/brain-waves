{
 "cells": [
  {
   "cell_type": "code",
   "execution_count": null,
   "metadata": {
    "collapsed": true
   },
   "outputs": [],
   "source": [
    "import tensorflow as tf\n",
    "import numpy as np\n",
    "import matplotlib.pyplot as plt\n",
    "%matplotlib inline"
   ]
  },
  {
   "cell_type": "code",
   "execution_count": null,
   "metadata": {
    "collapsed": true
   },
   "outputs": [],
   "source": [
    "data_length = 10000\n",
    "\n",
    "BPTT_length = 100\n",
    "num_units = 512\n",
    "layers = 2\n",
    "batch_size = 10\n",
    "input_size = 1\n",
    "learning_rate = 0.03"
   ]
  },
  {
   "cell_type": "code",
   "execution_count": null,
   "metadata": {
    "collapsed": false
   },
   "outputs": [],
   "source": [
    "## Create Graph\n",
    "tf.reset_default_graph()\n",
    "with tf.name_scope(\"input_placeholders\") as scope:\n",
    "  input_placeholders = [tf.placeholder(tf.float64, shape=(batch_size, input_size), name=\"input\"+str(i))\n",
    "                        for i in range(BPTT_length)]\n",
    "\n",
    "stacked_lstm = tf.nn.rnn_cell.MultiRNNCell(\n",
    "    [tf.nn.rnn_cell.LSTMCell(num_units, state_is_tuple=True)] * layers , state_is_tuple=True)\n",
    "unrolled_outputs, state = tf.nn.rnn(stacked_lstm, input_placeholders, dtype=tf.float64)\n",
    "\n",
    "outputs = [cell_output[:, 0:1] for cell_output in unrolled_outputs]\n",
    "\n",
    "target_placeholder = tf.placeholder(tf.float64, shape=(batch_size, input_size), name=\"target\")\n",
    "\n",
    "loss = tf.abs(target_placeholder - outputs[-1], name=\"loss\")\n",
    "cost = tf.reduce_mean(loss, name=\"cost\")   # average over batch\n",
    "# Use ADAM optimizer\n",
    "optimizer = tf.train.AdamOptimizer(learning_rate=learning_rate).minimize(cost)\n",
    "\n",
    "# Initialize session and write graph for visualization.\n",
    "sess = tf.Session()\n",
    "tf.initialize_all_variables().run(session=sess)\n",
    "summary_writer = tf.train.SummaryWriter('log_simple_graph', sess.graph)\n",
    "\n",
    "print(\"Session Created\")"
   ]
  },
  {
   "cell_type": "code",
   "execution_count": null,
   "metadata": {
    "collapsed": false
   },
   "outputs": [],
   "source": [
    "folder = \"/home/daniel/Downloads/Raw-Waves/\"\n",
    "filename=\"001_Session1_FilterTrigCh_RawCh.mat\"\n",
    "#filename=\"001_Session2_FilterTrigCh_RawCh.mat\"\n",
    "import scipy.io\n",
    "mat = scipy.io.loadmat(folder+filename)\n",
    "global raw_wave\n",
    "raw_wave = mat.get('data')[0]\n",
    "#raw_wave = raw_wave/max(raw_wave)\n",
    "raw_wave = raw_wave[::100]\n",
    "raw_wave = raw_wave[0:]\n",
    "raw_wave = raw_wave[:data_length]\n",
    "\n",
    "plt.figure(figsize=(20,10))\n",
    "plt.plot(raw_wave)"
   ]
  },
  {
   "cell_type": "code",
   "execution_count": null,
   "metadata": {
    "collapsed": false
   },
   "outputs": [],
   "source": [
    "# Transform to list of batches\n",
    "batches_per_step = data_length / batch_size\n",
    "batch_start_index = BPTT_length\n",
    "batch = [[batch_start_index + i] for i in range(batch_size)]"
   ]
  },
  {
   "cell_type": "code",
   "execution_count": null,
   "metadata": {
    "collapsed": true
   },
   "outputs": [],
   "source": [
    "input_values =[np.random.randn(batch_size, input_size)] * BPTT_length\n",
    "target_value = np.random.randn(batch_size, input_size)\n",
    "\n",
    "# Assign a value to each placeholder.\n",
    "feed_dictionary = {ph: v for ph, v in zip(input_placeholders, input_values)}\n",
    "feed_dictionary[target_placeholder] = target_value\n",
    "\n",
    "# Train over 1 batch.\n",
    "opt_value, last_output_value, cost_value = sess.run((optimizer, outputs[-1], cost),\n",
    "                                                      feed_dict=feed_dictionary)"
   ]
  }
 ],
 "metadata": {
  "kernelspec": {
   "display_name": "Python 2",
   "language": "python",
   "name": "python2"
  },
  "language_info": {
   "codemirror_mode": {
    "name": "ipython",
    "version": 2
   },
   "file_extension": ".py",
   "mimetype": "text/x-python",
   "name": "python",
   "nbconvert_exporter": "python",
   "pygments_lexer": "ipython2",
   "version": "2.7.11"
  },
  "widgets": {
   "state": {},
   "version": "1.1.2"
  }
 },
 "nbformat": 4,
 "nbformat_minor": 0
}
