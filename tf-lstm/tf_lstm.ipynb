{
 "cells": [
  {
   "cell_type": "code",
   "execution_count": null,
   "metadata": {
    "collapsed": true
   },
   "outputs": [],
   "source": [
    "from __future__ import print_function\n",
    "\n",
    "import tensorflow as tf\n",
    "import numpy as np\n",
    "import matplotlib.pyplot as plt\n",
    "%matplotlib inline"
   ]
  },
  {
   "cell_type": "code",
   "execution_count": null,
   "metadata": {
    "collapsed": true
   },
   "outputs": [],
   "source": [
    "BATCH_SIZE = 1000\n",
    "TRAINING_DATA_LENGTH = 10000\n",
    "VAL_DATA_LENGTH = 10000\n",
    "TEST_DATA_LENGTH = 1000\n",
    "SHUFFLE_TRAINING_EXAMPLES = True\n",
    "SCALE_DATA = False\n",
    "\n",
    "MAX_STEPS = 100000\n",
    "\n",
    "VAL_EVERY_N_STEPS = 1\n",
    "VAL_STEP_TOLERANCE = 10\n",
    "\n",
    "BPTT_LENGTH = 10\n",
    "NUM_UNITS = 64 # if this is increased, decrease the LEARNING_RATE (don't know why)\n",
    "N_LAYERS = 3\n",
    "INPUT_SIZE = 1\n",
    "LEARNING_RATE = 0.001\n",
    "CLIP_GRADIENTS = 1.0\n",
    "SCALE_OUTPUT = 1000.0\n",
    "\n",
    "SAVE_DIR = \"/home/daniel/Desktop/tf-lstm-model/\"\n",
    "SAVE_FILE = \"model.ckpt\"\n",
    "SAVE_PATH = SAVE_DIR+SAVE_FILE\n",
    "TENSORBOARD_DIR = \"/home/daniel/tensorboard\"\n",
    "\n",
    "DATA_FOLDER = \"/home/daniel/Downloads/Raw-Waves/\"\n",
    "DATA_FILENAME=\"001_Session1_FilterTrigCh_RawCh.mat\"\n",
    "#DATA_FILENAME=\"001_Session2_FilterTrigCh_RawCh.mat\""
   ]
  },
  {
   "cell_type": "code",
   "execution_count": null,
   "metadata": {
    "collapsed": false
   },
   "outputs": [],
   "source": [
    "## Create Graph\n",
    "tf.reset_default_graph()\n",
    "\n",
    "with tf.name_scope(\"input_placeholders\") as scope:\n",
    "  input_placeholders = [tf.placeholder(tf.float32, shape=(None, INPUT_SIZE), name=\"input\"+str(i))\n",
    "                        for i in range(BPTT_LENGTH)]\n",
    "  # shape[0] is None instead of BATCH_SIZE to allow for variable batch size\n",
    "\n",
    "stacked_lstm = tf.nn.rnn_cell.MultiRNNCell(\n",
    "    [tf.nn.rnn_cell.LSTMCell(NUM_UNITS, state_is_tuple=True)] * N_LAYERS , state_is_tuple=True)\n",
    "unrolled_outputs, state = tf.nn.rnn(stacked_lstm, input_placeholders, dtype=tf.float32)\n",
    "\n",
    "outputs = [tf.mul(cell_output[:, 0:1], tf.constant(SCALE_OUTPUT)) for cell_output in unrolled_outputs]\n",
    "\n",
    "target_placeholder = tf.placeholder(tf.float32, shape=(None, INPUT_SIZE), name=\"target\")\n",
    "\n",
    "loss = tf.square(target_placeholder - outputs[-1], name=\"loss\")\n",
    "cost = tf.reduce_mean(loss, name=\"cost\")   # average over batch\n",
    "# Use ADAM optimizer\n",
    "optimizer = tf.train.AdamOptimizer(learning_rate=LEARNING_RATE).minimize(cost)\n",
    "if CLIP_GRADIENTS > 0:\n",
    "  adam = tf.train.AdamOptimizer(learning_rate=LEARNING_RATE)\n",
    "  gvs = adam.compute_gradients(cost)\n",
    "  capped_gvs = [(tf.clip_by_value(grad, -CLIP_GRADIENTS, CLIP_GRADIENTS), var) for grad, var in gvs]\n",
    "  optimizer = adam.apply_gradients(capped_gvs)\n",
    "\n",
    "# Initialize session and write graph for visualization.\n",
    "sess = tf.Session()\n",
    "tf.initialize_all_variables().run(session=sess)\n",
    "summary_writer = tf.train.SummaryWriter(TENSORBOARD_DIR, sess.graph)\n",
    "\n",
    "print(\"Session Created\")"
   ]
  },
  {
   "cell_type": "code",
   "execution_count": null,
   "metadata": {
    "collapsed": false
   },
   "outputs": [],
   "source": [
    "saver = tf.train.Saver()"
   ]
  },
  {
   "cell_type": "code",
   "execution_count": null,
   "metadata": {
    "collapsed": false,
    "scrolled": false
   },
   "outputs": [],
   "source": [
    "import scipy.io\n",
    "mat = scipy.io.loadmat(DATA_FOLDER+DATA_FILENAME)\n",
    "global raw_wave\n",
    "raw_wave = mat.get('data')[0]\n",
    "if SCALE_DATA:\n",
    "  raw_wave = raw_wave/max(raw_wave)\n",
    "raw_wave = raw_wave[::1]\n",
    "raw_wave = raw_wave[0:]\n",
    "assert len(raw_wave) >= TRAINING_DATA_LENGTH+TEST_DATA_LENGTH+VAL_DATA_LENGTH\n",
    "training_data = raw_wave[:TRAINING_DATA_LENGTH]\n",
    "val_data = raw_wave[TRAINING_DATA_LENGTH:][:VAL_DATA_LENGTH]\n",
    "test_data = raw_wave[TRAINING_DATA_LENGTH:][VAL_DATA_LENGTH:][:TEST_DATA_LENGTH]\n",
    "\n",
    "plt.figure(figsize=(20,10))\n",
    "plt.plot(range(TRAINING_DATA_LENGTH),training_data,label=\"training\")\n",
    "plt.plot(range(TRAINING_DATA_LENGTH,TRAINING_DATA_LENGTH+VAL_DATA_LENGTH),val_data,label=\"validation\")\n",
    "plt.plot(range(TRAINING_DATA_LENGTH+VAL_DATA_LENGTH,\n",
    "               TRAINING_DATA_LENGTH+VAL_DATA_LENGTH+TEST_DATA_LENGTH),test_data,label=\"test\")\n",
    "plt.legend()\n",
    "print(len(raw_wave)-TRAINING_DATA_LENGTH+TEST_DATA_LENGTH+VAL_DATA_LENGTH)"
   ]
  },
  {
   "cell_type": "code",
   "execution_count": null,
   "metadata": {
    "collapsed": false
   },
   "outputs": [],
   "source": [
    "# Restore model weights from previously saved model\n",
    "import os\n",
    "if os.path.exists(SAVE_PATH):\n",
    "  saver.restore(sess, SAVE_PATH)\n",
    "  print(\"Model restored from file: %s\" % SAVE_PATH)\n",
    "else:\n",
    "  print(\"No model found.\")"
   ]
  },
  {
   "cell_type": "markdown",
   "metadata": {},
   "source": [
    "### Training"
   ]
  },
  {
   "cell_type": "code",
   "execution_count": null,
   "metadata": {
    "collapsed": false,
    "scrolled": true
   },
   "outputs": [],
   "source": [
    "from batchmaker import Batchmaker\n",
    "\n",
    "step_cost_log = []\n",
    "val_cost_log = []\n",
    "\n",
    "# single step\n",
    "for step in range(MAX_STEPS):\n",
    "  training_batchmaker = Batchmaker(training_data, BPTT_LENGTH, BATCH_SIZE, \n",
    "                                   shuffle_examples=SHUFFLE_TRAINING_EXAMPLES)\n",
    "  total_step_cost = 0\n",
    "  # Train on batches\n",
    "  while True:\n",
    "    if training_batchmaker.is_depleted():\n",
    "      break\n",
    "    else:\n",
    "      batch_input_values, batch_target_values = training_batchmaker.next_batch()\n",
    "      \n",
    "      # Assign a value to each placeholder.\n",
    "      feed_dictionary = {ph: v for ph, v in zip(input_placeholders, batch_input_values)}\n",
    "      feed_dictionary[target_placeholder] = batch_target_values\n",
    "  \n",
    "      # Train over 1 batch.\n",
    "      opt_value, last_output_value, cost_value = sess.run((optimizer, outputs[-1], cost),\n",
    "                                                        feed_dict=feed_dictionary)\n",
    "      total_step_cost += cost_value\n",
    "      assert not np.isnan(last_output_value).any()\n",
    "      #print(last_output_value)\n",
    "  #print(\"Total step cost: \", end='')\n",
    "  #print(total_step_cost)\n",
    "\n",
    "  if np.mod(step, VAL_EVERY_N_STEPS) == 0:\n",
    "    # Validation\n",
    "    val_batchmaker = Batchmaker(val_data, BPTT_LENGTH, \"max\", shuffle_examples=False)\n",
    "    batch_input_values, batch_target_values = val_batchmaker.next_batch()\n",
    "    \n",
    "    # Assign a value to each placeholder.\n",
    "    feed_dictionary = {ph: v for ph, v in zip(input_placeholders, batch_input_values)}\n",
    "    feed_dictionary[target_placeholder] = batch_target_values\n",
    "\n",
    "    # Train over 1 batch.\n",
    "    cost_value = sess.run(cost, feed_dict=feed_dictionary)\n",
    "    print(\"Validation cost: \", end='')\n",
    "    print(cost_value)\n",
    "    val_cost_log.append(cost_value)\n",
    "    \n",
    "    # If cost is improved, save model to disk\n",
    "    if len(val_cost_log) >= 2:\n",
    "        if val_cost_log[-1] <  min(val_cost_log[:-1]):\n",
    "            import os\n",
    "            if not os.path.exists(SAVE_DIR):\n",
    "                os.makedirs(SAVE_DIR)\n",
    "                print(\"Created directory: %s\" % SAVE_DIR)\n",
    "            save_path = saver.save(sess, SAVE_PATH)\n",
    "            print(\"Model saved in file: %s\" % save_path)\n",
    "    # Stop training if val_cost hasn't improved in VAL_STEP_TOLERANCE steps\n",
    "    if len(val_cost_log) > VAL_STEP_TOLERANCE:\n",
    "        if val_cost_log[-1] >= max(val_cost_log[-VAL_STEP_TOLERANCE:]):\n",
    "            print(\"Training stopped by validation monitor.\")\n",
    "            break\n",
    "\n",
    "print(\"Training ended.\")"
   ]
  },
  {
   "cell_type": "code",
   "execution_count": null,
   "metadata": {
    "collapsed": false
   },
   "outputs": [],
   "source": [
    "# Restore model weights from previously saved model\n",
    "import os\n",
    "if os.path.exists(SAVE_PATH):\n",
    "  saver.restore(sess, SAVE_PATH)\n",
    "  print(\"Model restored from file: %s\" % SAVE_PATH)\n",
    "else:\n",
    "  print(\"No model found.\")"
   ]
  },
  {
   "cell_type": "markdown",
   "metadata": {},
   "source": [
    "### Testing"
   ]
  },
  {
   "cell_type": "code",
   "execution_count": null,
   "metadata": {
    "collapsed": false,
    "scrolled": true
   },
   "outputs": [],
   "source": [
    "from batchmaker import Batchmaker\n",
    "test_batchmaker = Batchmaker(test_data, BPTT_LENGTH, \"max\", shuffle_examples=False)\n",
    "batch_input_values, batch_target_values = test_batchmaker.next_batch()\n",
    "    \n",
    "# Assign a value to each placeholder.\n",
    "feed_dictionary = {ph: v for ph, v in zip(input_placeholders, batch_input_values)}\n",
    "feed_dictionary[target_placeholder] = batch_target_values\n",
    "\n",
    "# Run session\n",
    "cost_value, output_value = sess.run((cost, outputs[-1]), feed_dict=feed_dictionary)\n",
    "\n",
    "plt.figure(figsize=(20,10))\n",
    "plt.plot(test_data, label=\"test data\")\n",
    "plt.plot(range(BPTT_LENGTH,BPTT_LENGTH+len(output_value)),output_value, label=\"prediction\")\n",
    "plt.legend()\n",
    "print(\"Testing cost: \", end='')\n",
    "print(cost_value)"
   ]
  },
  {
   "cell_type": "code",
   "execution_count": null,
   "metadata": {
    "collapsed": false
   },
   "outputs": [],
   "source": [
    "#Replace test data with sine wave\n",
    "test_data = np.sin(np.linspace(0,10*np.pi,TEST_DATA_LENGTH))"
   ]
  },
  {
   "cell_type": "code",
   "execution_count": null,
   "metadata": {
    "collapsed": true
   },
   "outputs": [],
   "source": [
    "#Reset test data to normal data\n",
    "offset = 1000\n",
    "test_data = raw_wave[TRAINING_DATA_LENGTH:][VAL_DATA_LENGTH:][offset:][:TEST_DATA_LENGTH]"
   ]
  },
  {
   "cell_type": "code",
   "execution_count": null,
   "metadata": {
    "collapsed": true
   },
   "outputs": [],
   "source": []
  }
 ],
 "metadata": {
  "kernelspec": {
   "display_name": "Python 2",
   "language": "python",
   "name": "python2"
  },
  "language_info": {
   "codemirror_mode": {
    "name": "ipython",
    "version": 2
   },
   "file_extension": ".py",
   "mimetype": "text/x-python",
   "name": "python",
   "nbconvert_exporter": "python",
   "pygments_lexer": "ipython2",
   "version": "2.7.11"
  },
  "widgets": {
   "state": {},
   "version": "1.1.2"
  }
 },
 "nbformat": 4,
 "nbformat_minor": 0
}
