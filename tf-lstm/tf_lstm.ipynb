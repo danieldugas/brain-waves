{
 "cells": [
  {
   "cell_type": "code",
   "execution_count": null,
   "metadata": {
    "collapsed": true
   },
   "outputs": [],
   "source": [
    "from __future__ import print_function\n",
    "\n",
    "import tensorflow as tf\n",
    "import numpy as np"
   ]
  },
  {
   "cell_type": "markdown",
   "metadata": {},
   "source": [
    "## Parameters"
   ]
  },
  {
   "cell_type": "code",
   "execution_count": null,
   "metadata": {
    "collapsed": false
   },
   "outputs": [],
   "source": [
    "MATPLOTLIB_SUPPORT = True\n",
    "SET_EULER_PARAMETERS = False\n",
    "\n",
    "# Handle arguments (When executed as .py script)\n",
    "import sys\n",
    "argv = sys.argv[:]\n",
    "if len(argv) > 1:\n",
    "  script_path = argv.pop(0)\n",
    "  if \"--euler\" in argv:\n",
    "    SET_EULER_PARAMETERS = True\n",
    "    MATPLOTLIB_SUPPORT = False\n",
    "    print(\"Parameters set for execution on euler cluster\")\n",
    "    argv.remove(\"--euler\")\n",
    "\n",
    "if MATPLOTLIB_SUPPORT:\n",
    "  import matplotlib.pyplot as plt\n",
    "  %matplotlib inline\n",
    "  from cycler import cycler"
   ]
  },
  {
   "cell_type": "code",
   "execution_count": null,
   "metadata": {
    "collapsed": true
   },
   "outputs": [],
   "source": [
    "BATCH_SIZE = 1000\n",
    "TRAINING_DATA_LENGTH = 10000\n",
    "VAL_DATA_LENGTH = 10000\n",
    "TEST_DATA_LENGTH = 1000\n",
    "SHUFFLE_TRAINING_EXAMPLES = True\n",
    "SAMPLING = 100\n",
    "\n",
    "MAX_STEPS = 3\n",
    "\n",
    "VAL_EVERY_N_STEPS = 1\n",
    "VAL_STEP_TOLERANCE = 10\n",
    "\n",
    "BPTT_LENGTH = 100\n",
    "NUM_UNITS = 128\n",
    "N_LAYERS = 3\n",
    "INPUT_SIZE = 2\n",
    "OUTPUT_SIZE = 10\n",
    "LEARNING_RATE = 0.001\n",
    "CLIP_GRADIENTS = 1.0\n",
    "SCALE_OUTPUT = 1000.0\n",
    "\n",
    "SAVE_DIR = \"/home/daniel/Desktop/tf-lstm-model2/\"\n",
    "SAVE_FILE = \"model.ckpt\"\n",
    "TENSORBOARD_DIR = \"/home/daniel/tensorboard\"\n",
    "\n",
    "DATA_FOLDER = \"/home/daniel/Downloads/Raw-Waves/\"\n",
    "DATA_FILENAME=\"001_Session1_FilterTrigCh_RawCh.mat\"\n",
    "DATA2_FILENAME=\"001_Session2_FilterTrigCh_RawCh.mat\"\n",
    "DATA3_FILENAME=\"034_Session1_FilterTrigCh_RawCh.mat\""
   ]
  },
  {
   "cell_type": "code",
   "execution_count": null,
   "metadata": {
    "collapsed": false
   },
   "outputs": [],
   "source": [
    "if SET_EULER_PARAMETERS:\n",
    "    DATA_FOLDER = \"/cluster/home/dugasd/\"\n",
    "    SAVE_DIR = \"/cluster/home/dugasd/tf-lstm-model/\"\n",
    "    TENSORBOARD_DIR = None"
   ]
  },
  {
   "cell_type": "code",
   "execution_count": null,
   "metadata": {
    "collapsed": true
   },
   "outputs": [],
   "source": [
    "SAVE_PATH = SAVE_DIR+SAVE_FILE"
   ]
  },
  {
   "cell_type": "markdown",
   "metadata": {},
   "source": [
    "## Datasets"
   ]
  },
  {
   "cell_type": "code",
   "execution_count": null,
   "metadata": {
    "collapsed": false,
    "scrolled": false
   },
   "outputs": [],
   "source": [
    "import scipy.io\n",
    "mat = scipy.io.loadmat(DATA_FOLDER+DATA_FILENAME)\n",
    "raw_wave = mat.get('data')[0]\n",
    "raw_wave = raw_wave[::SAMPLING]\n",
    "raw_wave = raw_wave[0:]\n",
    "\n",
    "if DATA2_FILENAME is not None:\n",
    "    mat = scipy.io.loadmat(DATA_FOLDER+DATA2_FILENAME)\n",
    "    raw_wave2 = mat.get('data')[0]\n",
    "    raw_wave2 = raw_wave2[::SAMPLING]\n",
    "    raw_wave2 = raw_wave2[0:]\n",
    "if DATA3_FILENAME is not None:\n",
    "    mat = scipy.io.loadmat(DATA_FOLDER+DATA3_FILENAME)\n",
    "    raw_wave3 = mat.get('data')[0]\n",
    "    raw_wave3 = raw_wave3[::SAMPLING]\n",
    "    raw_wave3 = raw_wave3[0:]\n",
    "    \n",
    "if INPUT_SIZE == 2:\n",
    "    raw_wave = [np.array([val1, val2]) for val1, val2 in zip(raw_wave, raw_wave2)]\n",
    "    raw_wave2 = raw_wave[TRAINING_DATA_LENGTH:]\n",
    "    raw_wave3 = raw_wave[TRAINING_DATA_LENGTH:][VAL_DATA_LENGTH:]\n",
    "    \n",
    "# Save some memory\n",
    "del mat\n",
    "\n",
    "# Assign data to datasets.\n",
    "training_data = raw_wave[:TRAINING_DATA_LENGTH]\n",
    "if DATA2_FILENAME is None:\n",
    "  val_data = raw_wave[TRAINING_DATA_LENGTH:][:VAL_DATA_LENGTH]\n",
    "  test_data = raw_wave[TRAINING_DATA_LENGTH:][VAL_DATA_LENGTH:][:TEST_DATA_LENGTH]\n",
    "else:\n",
    "  val_data = raw_wave2[:VAL_DATA_LENGTH]\n",
    "  if DATA3_FILENAME is None:\n",
    "    test_data = raw_wave2[VAL_DATA_LENGTH:][:TEST_DATA_LENGTH]\n",
    "  else:\n",
    "    test_data = raw_wave3[:TEST_DATA_LENGTH]\n",
    "\n",
    "\n",
    "if MATPLOTLIB_SUPPORT:\n",
    "  plt.figure(figsize=(20,10))\n",
    "  if SAMPLING > 10:\n",
    "      plotting_function = plt.step\n",
    "  else:\n",
    "      plotting_function = plt.plot\n",
    "  plotting_function(range(TRAINING_DATA_LENGTH),training_data,label=\"training\")\n",
    "  plotting_function(range(TRAINING_DATA_LENGTH,TRAINING_DATA_LENGTH+VAL_DATA_LENGTH),val_data,label=\"validation\")\n",
    "  plotting_function(range(TRAINING_DATA_LENGTH+VAL_DATA_LENGTH,\n",
    "                 TRAINING_DATA_LENGTH+VAL_DATA_LENGTH+TEST_DATA_LENGTH),test_data,label=\"test\")\n",
    "  plt.legend()\n",
    "print(len(raw_wave)-TRAINING_DATA_LENGTH+TEST_DATA_LENGTH+VAL_DATA_LENGTH)"
   ]
  },
  {
   "cell_type": "markdown",
   "metadata": {},
   "source": [
    "## Model Initialization"
   ]
  },
  {
   "cell_type": "code",
   "execution_count": null,
   "metadata": {
    "collapsed": false
   },
   "outputs": [],
   "source": [
    "## Create Graph\n",
    "tf.reset_default_graph()\n",
    "\n",
    "preset_batch_size = None\n",
    "with tf.name_scope(\"input_placeholders\") as scope:\n",
    "  input_placeholders = [tf.placeholder(tf.float32, shape=(preset_batch_size, INPUT_SIZE), name=\"input\"+str(i))\n",
    "                        for i in range(BPTT_LENGTH)]\n",
    "\n",
    "stacked_lstm = tf.nn.rnn_cell.MultiRNNCell(\n",
    "    [tf.nn.rnn_cell.LSTMCell(NUM_UNITS, state_is_tuple=True)] * N_LAYERS , state_is_tuple=True)\n",
    "unrolled_outputs, state = tf.nn.rnn(stacked_lstm, input_placeholders, dtype=tf.float32)\n",
    "\n",
    "outputs = [tf.mul(cell_output[:, 0:OUTPUT_SIZE], tf.constant(SCALE_OUTPUT)) for cell_output in unrolled_outputs]\n",
    "\n",
    "target_placeholder = tf.placeholder(tf.float32, shape=(preset_batch_size, OUTPUT_SIZE), name=\"target\")\n",
    "\n",
    "loss = tf.square(target_placeholder - outputs[-1], name=\"loss\")\n",
    "if OUTPUT_SIZE > 1:\n",
    "    loss = tf.reduce_sum(loss, 1) # add together loss for all outputs\n",
    "cost = tf.reduce_mean(loss, name=\"cost\")   # average over batch\n",
    "# Use ADAM optimizer\n",
    "optimizer = tf.train.AdamOptimizer(learning_rate=LEARNING_RATE).minimize(cost)\n",
    "if CLIP_GRADIENTS > 0:\n",
    "  adam = tf.train.AdamOptimizer(learning_rate=LEARNING_RATE)\n",
    "  gvs = adam.compute_gradients(cost)\n",
    "#  capped_gvs = [(tf.clip_by_value(grad, -CLIP_GRADIENTS, CLIP_GRADIENTS), var) for grad, var in gvs]\n",
    "  capped_gvs = [(tf.clip_by_norm(grad, CLIP_GRADIENTS), var) for grad, var in gvs]\n",
    "  optimizer = adam.apply_gradients(capped_gvs)\n",
    "\n",
    "# Initialize session and write graph for visualization.\n",
    "sess = tf.Session()\n",
    "tf.initialize_all_variables().run(session=sess)\n",
    "if TENSORBOARD_DIR != None:\n",
    "  summary_writer = tf.train.SummaryWriter(TENSORBOARD_DIR, sess.graph)\n",
    "  print(\"Tensorboard graph saved.\")\n",
    "\n",
    "print(\"Session created.\")"
   ]
  },
  {
   "cell_type": "code",
   "execution_count": null,
   "metadata": {
    "collapsed": false
   },
   "outputs": [],
   "source": [
    "saver = tf.train.Saver()"
   ]
  },
  {
   "cell_type": "code",
   "execution_count": null,
   "metadata": {
    "collapsed": false
   },
   "outputs": [],
   "source": [
    "# Restore model weights from previously saved model\n",
    "import os\n",
    "if os.path.exists(SAVE_PATH):\n",
    "  saver.restore(sess, SAVE_PATH)\n",
    "  print(\"Model restored from file: %s\" % SAVE_PATH)\n",
    "else:\n",
    "  print(\"No model found.\")"
   ]
  },
  {
   "cell_type": "markdown",
   "metadata": {},
   "source": [
    "### Training"
   ]
  },
  {
   "cell_type": "code",
   "execution_count": null,
   "metadata": {
    "collapsed": false,
    "scrolled": false
   },
   "outputs": [],
   "source": [
    "from batchmaker import Batchmaker\n",
    "\n",
    "step_cost_log = []\n",
    "val_cost_log = []\n",
    "val_steps_since_last_improvement = 0\n",
    "\n",
    "# single step\n",
    "for step in range(MAX_STEPS):\n",
    "  # Validation\n",
    "  if np.mod(step, VAL_EVERY_N_STEPS) == 0:\n",
    "    val_batchmaker = Batchmaker(val_data, BPTT_LENGTH, \"max\", output_size=OUTPUT_SIZE, shuffle_examples=False)\n",
    "    batch_input_values, batch_target_values = val_batchmaker.next_batch()\n",
    "    \n",
    "    # Assign a value to each placeholder.\n",
    "    feed_dictionary = {ph: v for ph, v in zip(input_placeholders, batch_input_values)}\n",
    "    feed_dictionary[target_placeholder] = batch_target_values\n",
    "\n",
    "    # Train over 1 batch.\n",
    "    cost_value = sess.run(cost, feed_dict=feed_dictionary)\n",
    "    print(\"Validation cost: \", end='')\n",
    "    print(cost_value)\n",
    "    val_cost_log.append(cost_value)\n",
    "    \n",
    "    # Check if cost has improved\n",
    "    if len(val_cost_log) > 1:\n",
    "        if val_cost_log[-1] <  min(val_cost_log[:-1]):\n",
    "            val_steps_since_last_improvement = 0\n",
    "            # save model to disk\n",
    "            import os\n",
    "            if not os.path.exists(SAVE_DIR):\n",
    "                os.makedirs(SAVE_DIR)\n",
    "                print(\"Created directory: %s\" % SAVE_DIR)\n",
    "            print(\"Saving ... \", end='')\n",
    "            save_path = saver.save(sess, SAVE_PATH)\n",
    "            print(\"Model saved in file: %s\" % save_path)\n",
    "        else:\n",
    "            val_steps_since_last_improvement += 1\n",
    "    # Stop training if val_cost hasn't improved in VAL_STEP_TOLERANCE steps\n",
    "    if val_steps_since_last_improvement > VAL_STEP_TOLERANCE:\n",
    "        print(\"Training stopped by validation monitor.\")\n",
    "        break\n",
    "            \n",
    "  # Train on batches\n",
    "  training_batchmaker = Batchmaker(training_data, BPTT_LENGTH, BATCH_SIZE, output_size=OUTPUT_SIZE, \n",
    "                                   shuffle_examples=SHUFFLE_TRAINING_EXAMPLES)\n",
    "  total_step_cost = 0\n",
    "  while True:\n",
    "    if training_batchmaker.is_depleted():\n",
    "      break\n",
    "    else:\n",
    "      batch_input_values, batch_target_values = training_batchmaker.next_batch()\n",
    "      \n",
    "      # Assign a value to each placeholder.\n",
    "      feed_dictionary = {ph: v for ph, v in zip(input_placeholders, batch_input_values)}\n",
    "      feed_dictionary[target_placeholder] = batch_target_values\n",
    "  \n",
    "      # Train over 1 batch.\n",
    "      opt_value, last_output_value, cost_value = sess.run((optimizer, outputs[-1], cost),\n",
    "                                                        feed_dict=feed_dictionary)\n",
    "      total_step_cost += cost_value\n",
    "      assert not np.isnan(last_output_value).any()\n",
    "\n",
    "\n",
    "print(\"Training ended.\")"
   ]
  },
  {
   "cell_type": "code",
   "execution_count": null,
   "metadata": {
    "collapsed": false
   },
   "outputs": [],
   "source": [
    "# Restore model weights from previously saved model\n",
    "import os\n",
    "if os.path.exists(SAVE_PATH):\n",
    "  saver.restore(sess, SAVE_PATH)\n",
    "  print(\"Model restored from file: %s\" % SAVE_PATH)\n",
    "else:\n",
    "  print(\"No model found.\")"
   ]
  },
  {
   "cell_type": "markdown",
   "metadata": {},
   "source": [
    "### Testing"
   ]
  },
  {
   "cell_type": "code",
   "execution_count": null,
   "metadata": {
    "collapsed": false,
    "scrolled": false
   },
   "outputs": [],
   "source": [
    "REALIGN_OUTPUT = False\n",
    "\n",
    "from batchmaker import Batchmaker\n",
    "test_batchmaker = Batchmaker(test_data, BPTT_LENGTH, \"max\", output_size=OUTPUT_SIZE, shuffle_examples=False)\n",
    "batch_input_values, batch_target_values = test_batchmaker.next_batch()\n",
    "    \n",
    "# Assign a value to each placeholder.\n",
    "feed_dictionary = {ph: v for ph, v in zip(input_placeholders, batch_input_values)}\n",
    "feed_dictionary[target_placeholder] = batch_target_values\n",
    "\n",
    "# Run session\n",
    "cost_value, output_value = sess.run((cost, outputs[-1]), feed_dict=feed_dictionary)\n",
    "\n",
    "if MATPLOTLIB_SUPPORT:\n",
    "  plt.figure(figsize=(100,10))\n",
    "  plt.gca().set_prop_cycle(cycler('color', ['k'] + [(1,w,w) for w in np.linspace(0,1,OUTPUT_SIZE)][::-1]))\n",
    "  plotting_function(range(len(test_data)), np.array(test_data)[:,0], label=\"test data\")\n",
    "  if REALIGN_OUTPUT:\n",
    "    abscisses = np.tile(np.arange(BPTT_LENGTH, BPTT_LENGTH+len(output_value))[:,None], (1,OUTPUT_SIZE))\n",
    "    abscisses = abscisses + np.arange(OUTPUT_SIZE)\n",
    "  else:\n",
    "    abscisses = np.arange(BPTT_LENGTH, BPTT_LENGTH+len(output_value))\n",
    "  plotting_function(abscisses, output_value, label=\"prediction\")\n",
    "  plt.legend()\n",
    "print(\"Testing cost: \", end='')\n",
    "print(cost_value)"
   ]
  },
  {
   "cell_type": "code",
   "execution_count": null,
   "metadata": {
    "collapsed": false
   },
   "outputs": [],
   "source": [
    "#Replace test data with sine wave\n",
    "test_data = 30*np.sin(np.linspace(0,100*np.pi,TEST_DATA_LENGTH))"
   ]
  },
  {
   "cell_type": "code",
   "execution_count": null,
   "metadata": {
    "collapsed": true
   },
   "outputs": [],
   "source": [
    "offset = 0"
   ]
  },
  {
   "cell_type": "code",
   "execution_count": null,
   "metadata": {
    "collapsed": false
   },
   "outputs": [],
   "source": [
    "#Reset test data to normal data\n",
    "offset += TEST_DATA_LENGTH\n",
    "test_data = raw_wave3[offset:][:TEST_DATA_LENGTH]"
   ]
  },
  {
   "cell_type": "markdown",
   "metadata": {},
   "source": [
    "## Hallucination"
   ]
  },
  {
   "cell_type": "code",
   "execution_count": null,
   "metadata": {
    "collapsed": false
   },
   "outputs": [],
   "source": [
    "HALLUCINATION_LENGTH = 200\n",
    "HALLUCINATION_FUTURE = 5\n",
    "\n",
    "from batchmaker import Batchmaker\n",
    "hal_batchmaker = Batchmaker(test_data, BPTT_LENGTH, 1, output_size=OUTPUT_SIZE, shuffle_examples=False)\n",
    "batch_input_values, batch_target_values = hal_batchmaker.next_batch()\n",
    "\n",
    "hal_output = []\n",
    "for i in range(HALLUCINATION_LENGTH):\n",
    "  # Assign a value to each placeholder.\n",
    "  feed_dictionary = {ph: v for ph, v in zip(input_placeholders, batch_input_values)}\n",
    "  feed_dictionary[target_placeholder] = batch_target_values\n",
    "\n",
    "  # Run session\n",
    "  output_value = sess.run(outputs[-1], feed_dict=feed_dictionary)\n",
    "  hal_output.append(output_value[0][0])\n",
    "\n",
    "  batch_input_values.append(batch_input_values.pop(0))\n",
    "  batch_input_values[-1][0,:] = np.tile(output_value[0,HALLUCINATION_FUTURE], (1,INPUT_SIZE))\n",
    "\n",
    "if MATPLOTLIB_SUPPORT:\n",
    "  plt.figure(figsize=(20,10))\n",
    "  plotting_function(range(len(test_data)), np.array(test_data)[:,0], label=\"test data\")\n",
    "  plotting_function(range(BPTT_LENGTH,BPTT_LENGTH+len(hal_output)),hal_output, label=\"prediction\")\n",
    "  plt.xlim([0,BPTT_LENGTH+len(hal_output)])\n",
    "  plt.legend()"
   ]
  },
  {
   "cell_type": "code",
   "execution_count": null,
   "metadata": {
    "collapsed": true
   },
   "outputs": [],
   "source": [
    "## Author: Daniel Dugas"
   ]
  }
 ],
 "metadata": {
  "kernelspec": {
   "display_name": "Python 2",
   "language": "python",
   "name": "python2"
  },
  "language_info": {
   "codemirror_mode": {
    "name": "ipython",
    "version": 2
   },
   "file_extension": ".py",
   "mimetype": "text/x-python",
   "name": "python",
   "nbconvert_exporter": "python",
   "pygments_lexer": "ipython2",
   "version": "2.7.11"
  },
  "widgets": {
   "state": {},
   "version": "1.1.2"
  }
 },
 "nbformat": 4,
 "nbformat_minor": 0
}
